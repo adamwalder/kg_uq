{
 "cells": [
  {
   "cell_type": "code",
   "execution_count": 1,
   "id": "b9a72851",
   "metadata": {},
   "outputs": [
    {
     "name": "stderr",
     "output_type": "stream",
     "text": [
      "/Users/walder2/torch_geometric_env/lib/python3.11/site-packages/tqdm/auto.py:21: TqdmWarning: IProgress not found. Please update jupyter and ipywidgets. See https://ipywidgets.readthedocs.io/en/stable/user_install.html\n",
      "  from .autonotebook import tqdm as notebook_tqdm\n"
     ]
    }
   ],
   "source": [
    "import os, sys\n",
    "\n",
    "open_ai_key = '...'\n",
    "os.environ['OPENAI_API_KEY'] = open_ai_key\n",
    "sys.path = ['/Users/walder2/kg_uq/'] + sys.path\n",
    "path_to_data = '/Users/walder2/kg_uq/hotpot_qa_data'\n",
    "from hotpot_qa_data.hotpot_data_load import write_hotpot_to_txt\n",
    "\n",
    "from kg_extraction.kg_extraction import extract_kg"
   ]
  },
  {
   "cell_type": "code",
   "execution_count": 2,
   "id": "180f9be7",
   "metadata": {},
   "outputs": [],
   "source": [
    "hotpot_files = load_hotpot_qa(path_to_data=path_to_data, ndocs=1)"
   ]
  },
  {
   "cell_type": "code",
   "execution_count": 3,
   "id": "ff4a8a4b",
   "metadata": {},
   "outputs": [],
   "source": [
    "entity_types = {\n",
    "    \"person\": 'https://schema.org/Person',\n",
    "    'place': 'https://schema.org/Place',\n",
    "    'thing': 'https://schema.org/Thing',\n",
    "    'creativeWork': 'https://schema.org/CreativeWork',\n",
    "    'event': 'https://schema.org/Event',\n",
    "    'product': 'https://schema.org/Product'\n",
    "    \n",
    "}\n",
    "\n",
    "relation_types = {\n",
    "    \"hasCharacteristic\": \"https://schema.org/additionalProperty\",\n",
    "    \"hasColor\": \"https://schema.org/color\",\n",
    "    \"hasMeasurement\": \"https://schema.org/hasMeasurement\",\n",
    "    \"person\": 'https://schema.org/Person',\n",
    "    'place': 'https://schema.org/Place',\n",
    "    'thing': 'https://schema.org/Thing',\n",
    "    'creativeWork': 'https://schema.org/CreativeWork',\n",
    "    'event': 'https://schema.org/Event',\n",
    "    'product': 'https://schema.org/Product'\n",
    "    \n",
    "\n",
    "}"
   ]
  },
  {
   "cell_type": "code",
   "execution_count": 6,
   "id": "67ecb35b",
   "metadata": {},
   "outputs": [
    {
     "name": "stdout",
     "output_type": "stream",
     "text": [
      " - - - - - - - - - - - - - - - - - - - - - - - - - - - - - \n",
      "'./kg_files/2014–15_ukrainian_hockey_championship.json'\n",
      " - - - - - - - - - - - - - - - - - - - - - - - - - - - - - \n",
      "Already extracted 2014–15_ukrainian_hockey_championship.\n",
      "\n",
      " - - - - - - - - - - - - - - - - - - - - - - - - - - - - - \n",
      "'./kg_files/arthurs_magazine.json'\n",
      " - - - - - - - - - - - - - - - - - - - - - - - - - - - - - \n",
      "[{'head': \"Arthur's Magazine\", 'head_type': 'creativeWork', 'relation': 'isPublishedBy', 'tail': 'T.S. Arthur', 'tail_type': 'person'}, {'head': \"Arthur's Magazine\", 'head_type': 'creativeWork', 'relation': 'hasContributor', 'tail': 'Edgar A. Poe', 'tail_type': 'person'}, {'head': \"Arthur's Magazine\", 'head_type': 'creativeWork', 'relation': 'hasContributor', 'tail': 'J.H. Ingraham', 'tail_type': 'person'}, {'head': \"Arthur's Magazine\", 'head_type': 'creativeWork', 'relation': 'hasContributor', 'tail': 'Sarah Josepha Hale', 'tail_type': 'person'}, {'head': \"Arthur's Magazine\", 'head_type': 'creativeWork', 'relation': 'hasContributor', 'tail': 'Thomas G. Spear', 'tail_type': 'person'}, {'head': \"Arthur's Magazine\", 'head_type': 'creativeWork', 'relation': 'isMergedInto', 'tail': \"Godey's Lady's Book\", 'tail_type': 'creativeWork'}]\n",
      "\n",
      "Unterminated string starting at: line 377 column 13 (char 7997)\n",
      " - - - - - - - - - - - - - - - - - - - - - - - - - - - - - \n",
      "'./kg_files/first_arthur_county_courthouse_and_jail.json'\n",
      " - - - - - - - - - - - - - - - - - - - - - - - - - - - - - \n",
      "Already extracted first_arthur_county_courthouse_and_jail.\n",
      "\n",
      " - - - - - - - - - - - - - - - - - - - - - - - - - - - - - \n",
      "'./kg_files/first_for_women.json'\n",
      " - - - - - - - - - - - - - - - - - - - - - - - - - - - - - \n",
      "Already extracted first_for_women.\n",
      "\n",
      " - - - - - - - - - - - - - - - - - - - - - - - - - - - - - \n",
      "'./kg_files/freeway_complex_fire.json'\n",
      " - - - - - - - - - - - - - - - - - - - - - - - - - - - - - \n",
      "Already extracted freeway_complex_fire.\n",
      "\n",
      " - - - - - - - - - - - - - - - - - - - - - - - - - - - - - \n",
      "'./kg_files/history_of_albanian_football.json'\n",
      " - - - - - - - - - - - - - - - - - - - - - - - - - - - - - \n",
      "Already extracted history_of_albanian_football.\n",
      "\n",
      " - - - - - - - - - - - - - - - - - - - - - - - - - - - - - \n",
      "'./kg_files/radio_city_indian_radio_station.json'\n",
      " - - - - - - - - - - - - - - - - - - - - - - - - - - - - - \n",
      "Already extracted radio_city_indian_radio_station.\n",
      "\n",
      " - - - - - - - - - - - - - - - - - - - - - - - - - - - - - \n",
      "'./kg_files/william_rast.json'\n",
      " - - - - - - - - - - - - - - - - - - - - - - - - - - - - - \n",
      "Already extracted william_rast.\n",
      "\n",
      " - - - - - - - - - - - - - - - - - - - - - - - - - - - - - \n",
      "'./kg_files/womens_colleges_in_the_southern_united_states.json'\n",
      " - - - - - - - - - - - - - - - - - - - - - - - - - - - - - \n",
      "Already extracted womens_colleges_in_the_southern_united_states.\n",
      "\n",
      "Completed 10 out of 10 kg extractions.\n"
     ]
    }
   ],
   "source": [
    "cnt = 0\n",
    "tot = sum([len(v['topics']) for v in hotpot_files.values()])\n",
    "\n",
    "for hid in hotpot_files.keys():\n",
    "    n = len(hotpot_files[hid]['topics'])\n",
    "\n",
    "    extract_kg(entity_types=entity_types, relation_types=relation_types, data_dir=path_to_data,\n",
    "                      txt_files=hotpot_files[hid]['file_paths'], verbose=True)\n",
    "    cnt += n\n",
    "    print(f'Completed {cnt} out of {tot} kg extractions.')"
   ]
  },
  {
   "cell_type": "code",
   "execution_count": null,
   "id": "62db97e6",
   "metadata": {},
   "outputs": [],
   "source": []
  }
 ],
 "metadata": {
  "kernelspec": {
   "display_name": "torch_geometric_env",
   "language": "python",
   "name": "torch_geometric_env"
  },
  "language_info": {
   "codemirror_mode": {
    "name": "ipython",
    "version": 3
   },
   "file_extension": ".py",
   "mimetype": "text/x-python",
   "name": "python",
   "nbconvert_exporter": "python",
   "pygments_lexer": "ipython3",
   "version": "3.11.6"
  }
 },
 "nbformat": 4,
 "nbformat_minor": 5
}
