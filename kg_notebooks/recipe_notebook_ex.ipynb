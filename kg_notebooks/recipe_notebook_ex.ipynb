{
 "cells": [
  {
   "cell_type": "code",
   "execution_count": 2,
   "id": "94e1e9bb",
   "metadata": {},
   "outputs": [],
   "source": [
    "import os, sys\n",
    "\n",
    "open_ai_key = '...'\n",
    "os.environ['OPENAI_API_KEY'] = open_ai_key\n",
    "sys.path = ['/Users/walder2/kg_uq/'] + sys.path\n",
    "path_to_data = '/Users/walder2/kg_uq/recipe_data'"
   ]
  },
  {
   "cell_type": "code",
   "execution_count": 3,
   "id": "c79db098",
   "metadata": {},
   "outputs": [
    {
     "name": "stderr",
     "output_type": "stream",
     "text": [
      "/Users/walder2/torch_geometric_env/lib/python3.11/site-packages/tqdm/auto.py:21: TqdmWarning: IProgress not found. Please update jupyter and ipywidgets. See https://ipywidgets.readthedocs.io/en/stable/user_install.html\n",
      "  from .autonotebook import tqdm as notebook_tqdm\n"
     ]
    }
   ],
   "source": [
    "from kg_extraction import *"
   ]
  },
  {
   "cell_type": "code",
   "execution_count": null,
   "id": "920397c4",
   "metadata": {},
   "outputs": [],
   "source": [
    "websites = [\n",
    "    \"https://www.allrecipes.com/sweet-potato-dump-cake-recipe-8363654\", \n",
    "    \"https://www.allrecipes.com/chocolate-stout-cake-recipe-8426369\",\n",
    "    'https://www.allrecipes.com/sweet-potato-sheet-cake-recipe-8405784',\n",
    "    'https://www.allrecipes.com/recipe/16607/cheesecake-brownies/',\n",
    "    'https://www.allrecipes.com/recipe/211165/pumpkin-brownies/',\n",
    "    'https://www.allrecipes.com/recipe/9566/fudge-brownies-i/',\n",
    "    'https://www.allrecipes.com/recipe/9827/chocolate-chocolate-chip-cookies-i/',\n",
    "    'https://www.allrecipes.com/recipe/26237/double-chocolate-chip-cookies/'\n",
    "    \n",
    "    \n",
    "]\n",
    "recipes = [\n",
    "    'sweet potato dump cake',\n",
    "    'chocolate stout cake',\n",
    "    'sweet potato sheet cake',\n",
    "    'cheesecake brownies',\n",
    "    'pumpkin brownies',\n",
    "    'fudge brownies',\n",
    "    'chocolate chip cookies',\n",
    "    'double chocolate chip cookies'\n",
    "]"
   ]
  },
  {
   "cell_type": "code",
   "execution_count": null,
   "id": "c09c69fb",
   "metadata": {},
   "outputs": [],
   "source": [
    "scrape_recipe_websites(websites, recipes, data_dir = path_to_data)"
   ]
  },
  {
   "cell_type": "code",
   "execution_count": null,
   "id": "7614cae5",
   "metadata": {},
   "outputs": [],
   "source": [
    "entity_types = {\n",
    "    \"recipe\": 'https://schema.org/Recipe',\n",
    "    \"ingredient\": \"https://schema.org/recipeIngredient\",\n",
    "    \"measurement\": \"https://schema.org/QuantitativeValue\",  \n",
    "}\n",
    "\n",
    "relation_types = {\n",
    "    \"hasCharacteristic\": \"https://schema.org/additionalProperty\",\n",
    "    \"hasColor\": \"https://schema.org/color\",\n",
    "    \"hasMeasurement\": \"https://schema.org/hasMeasurement\",\n",
    "    \"cookTime\": \"https://schema.org/cookTime\",\n",
    "    \"recipeInstruction\": \"https://schema.org/recipeInstructions\"\n",
    "    \n",
    " }"
   ]
  },
  {
   "cell_type": "code",
   "execution_count": null,
   "id": "126bb219",
   "metadata": {},
   "outputs": [],
   "source": [
    "extract_ingredients_directions(data_dir = path_to_data)"
   ]
  },
  {
   "cell_type": "code",
   "execution_count": null,
   "id": "5ca95529",
   "metadata": {},
   "outputs": [],
   "source": [
    "extract_recipe_kg(entity_types=entity_types, relation_types=relation_types, data_dir=path_to_data)"
   ]
  },
  {
   "cell_type": "code",
   "execution_count": 5,
   "id": "a85fd69a",
   "metadata": {},
   "outputs": [],
   "source": [
    "train, (kg, kg_idx), (node_map, emb_map) = kg_to_hetero(data_dir = path_to_data, embeddings_model=None, undirected=True)"
   ]
  },
  {
   "cell_type": "code",
   "execution_count": 6,
   "id": "bcf8a201",
   "metadata": {},
   "outputs": [
    {
     "data": {
      "text/html": [
       "<div>\n",
       "<style scoped>\n",
       "    .dataframe tbody tr th:only-of-type {\n",
       "        vertical-align: middle;\n",
       "    }\n",
       "\n",
       "    .dataframe tbody tr th {\n",
       "        vertical-align: top;\n",
       "    }\n",
       "\n",
       "    .dataframe thead th {\n",
       "        text-align: right;\n",
       "    }\n",
       "</style>\n",
       "<table border=\"1\" class=\"dataframe\">\n",
       "  <thead>\n",
       "    <tr style=\"text-align: right;\">\n",
       "      <th></th>\n",
       "      <th>head</th>\n",
       "      <th>head_type</th>\n",
       "      <th>relation</th>\n",
       "      <th>tail</th>\n",
       "      <th>tail_type</th>\n",
       "    </tr>\n",
       "  </thead>\n",
       "  <tbody>\n",
       "    <tr>\n",
       "      <th>0</th>\n",
       "      <td>cheesecake brownies</td>\n",
       "      <td>recipe</td>\n",
       "      <td>hasIngredient</td>\n",
       "      <td>brownie mix</td>\n",
       "      <td>ingredient</td>\n",
       "    </tr>\n",
       "    <tr>\n",
       "      <th>1</th>\n",
       "      <td>cheesecake brownies</td>\n",
       "      <td>recipe</td>\n",
       "      <td>hasIngredient</td>\n",
       "      <td>water</td>\n",
       "      <td>ingredient</td>\n",
       "    </tr>\n",
       "    <tr>\n",
       "      <th>2</th>\n",
       "      <td>cheesecake brownies</td>\n",
       "      <td>recipe</td>\n",
       "      <td>hasIngredient</td>\n",
       "      <td>vegetable oil</td>\n",
       "      <td>ingredient</td>\n",
       "    </tr>\n",
       "    <tr>\n",
       "      <th>3</th>\n",
       "      <td>cheesecake brownies</td>\n",
       "      <td>recipe</td>\n",
       "      <td>hasIngredient</td>\n",
       "      <td>eggs</td>\n",
       "      <td>ingredient</td>\n",
       "    </tr>\n",
       "    <tr>\n",
       "      <th>4</th>\n",
       "      <td>cheesecake brownies</td>\n",
       "      <td>recipe</td>\n",
       "      <td>hasIngredient</td>\n",
       "      <td>cream cheese</td>\n",
       "      <td>ingredient</td>\n",
       "    </tr>\n",
       "    <tr>\n",
       "      <th>...</th>\n",
       "      <td>...</td>\n",
       "      <td>...</td>\n",
       "      <td>...</td>\n",
       "      <td>...</td>\n",
       "      <td>...</td>\n",
       "    </tr>\n",
       "    <tr>\n",
       "      <th>136</th>\n",
       "      <td>sweet potato sheet cake</td>\n",
       "      <td>recipe</td>\n",
       "      <td>recipeInstruction</td>\n",
       "      <td>add powdered sugar and beat until well combined</td>\n",
       "      <td>instruction</td>\n",
       "    </tr>\n",
       "    <tr>\n",
       "      <th>137</th>\n",
       "      <td>sweet potato sheet cake</td>\n",
       "      <td>recipe</td>\n",
       "      <td>recipeInstruction</td>\n",
       "      <td>spread the frosting evenly over the cooled cak...</td>\n",
       "      <td>instruction</td>\n",
       "    </tr>\n",
       "    <tr>\n",
       "      <th>138</th>\n",
       "      <td>sweet potato sheet cake</td>\n",
       "      <td>recipe</td>\n",
       "      <td>hasIngredient</td>\n",
       "      <td>sweet potatoes</td>\n",
       "      <td>ingredient</td>\n",
       "    </tr>\n",
       "    <tr>\n",
       "      <th>139</th>\n",
       "      <td>sweet potato sheet cake</td>\n",
       "      <td>recipe</td>\n",
       "      <td>hasIngredient</td>\n",
       "      <td>box mix</td>\n",
       "      <td>ingredient</td>\n",
       "    </tr>\n",
       "    <tr>\n",
       "      <th>140</th>\n",
       "      <td>sweet potato sheet cake</td>\n",
       "      <td>recipe</td>\n",
       "      <td>hasIngredient</td>\n",
       "      <td>mashed canned sweet potatoes</td>\n",
       "      <td>ingredient</td>\n",
       "    </tr>\n",
       "  </tbody>\n",
       "</table>\n",
       "<p>141 rows × 5 columns</p>\n",
       "</div>"
      ],
      "text/plain": [
       "                        head head_type           relation  \\\n",
       "0        cheesecake brownies    recipe      hasIngredient   \n",
       "1        cheesecake brownies    recipe      hasIngredient   \n",
       "2        cheesecake brownies    recipe      hasIngredient   \n",
       "3        cheesecake brownies    recipe      hasIngredient   \n",
       "4        cheesecake brownies    recipe      hasIngredient   \n",
       "..                       ...       ...                ...   \n",
       "136  sweet potato sheet cake    recipe  recipeInstruction   \n",
       "137  sweet potato sheet cake    recipe  recipeInstruction   \n",
       "138  sweet potato sheet cake    recipe      hasIngredient   \n",
       "139  sweet potato sheet cake    recipe      hasIngredient   \n",
       "140  sweet potato sheet cake    recipe      hasIngredient   \n",
       "\n",
       "                                                  tail    tail_type  \n",
       "0                                          brownie mix   ingredient  \n",
       "1                                                water   ingredient  \n",
       "2                                        vegetable oil   ingredient  \n",
       "3                                                 eggs   ingredient  \n",
       "4                                         cream cheese   ingredient  \n",
       "..                                                 ...          ...  \n",
       "136    add powdered sugar and beat until well combined  instruction  \n",
       "137  spread the frosting evenly over the cooled cak...  instruction  \n",
       "138                                     sweet potatoes   ingredient  \n",
       "139                                            box mix   ingredient  \n",
       "140                       mashed canned sweet potatoes   ingredient  \n",
       "\n",
       "[141 rows x 5 columns]"
      ]
     },
     "execution_count": 6,
     "metadata": {},
     "output_type": "execute_result"
    }
   ],
   "source": [
    "kg"
   ]
  },
  {
   "cell_type": "code",
   "execution_count": null,
   "id": "859f6b48",
   "metadata": {},
   "outputs": [],
   "source": []
  },
  {
   "cell_type": "code",
   "execution_count": null,
   "id": "6d8385c4",
   "metadata": {},
   "outputs": [],
   "source": []
  }
 ],
 "metadata": {
  "kernelspec": {
   "display_name": "torch_geometric_env",
   "language": "python",
   "name": "torch_geometric_env"
  },
  "language_info": {
   "codemirror_mode": {
    "name": "ipython",
    "version": 3
   },
   "file_extension": ".py",
   "mimetype": "text/x-python",
   "name": "python",
   "nbconvert_exporter": "python",
   "pygments_lexer": "ipython3",
   "version": "3.11.6"
  }
 },
 "nbformat": 4,
 "nbformat_minor": 5
}
