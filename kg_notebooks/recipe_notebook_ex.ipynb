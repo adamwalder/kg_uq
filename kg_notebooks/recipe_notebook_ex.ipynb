{
 "cells": [
  {
   "cell_type": "markdown",
   "id": "d8519a71",
   "metadata": {},
   "source": [
    "# Scrape recipes and extract KG triples using OpenAI and LlamaIndex\n",
    "\n",
    "This notebook demonstrates how the data in `./recipe_data/` was extracted. Extraction is generally easier by running as a script, see `scrape_recipes.py`"
   ]
  },
  {
   "cell_type": "code",
   "execution_count": null,
   "id": "172d6347",
   "metadata": {},
   "outputs": [],
   "source": [
    "import os, sys\n",
    "\n",
    "open_ai_key = '...'\n",
    "os.environ['OPENAI_API_KEY'] = open_ai_key\n",
    "sys.path = ['/Users/walder2/kg_uq/'] + sys.path\n",
    "path_to_data = '/Users/walder2/kg_uq/recipe_data'"
   ]
  },
  {
   "cell_type": "code",
   "execution_count": 2,
   "id": "c79db098",
   "metadata": {},
   "outputs": [
    {
     "name": "stderr",
     "output_type": "stream",
     "text": [
      "/Users/walder2/torch_geometric_env/lib/python3.11/site-packages/tqdm/auto.py:21: TqdmWarning: IProgress not found. Please update jupyter and ipywidgets. See https://ipywidgets.readthedocs.io/en/stable/user_install.html\n",
      "  from .autonotebook import tqdm as notebook_tqdm\n"
     ]
    }
   ],
   "source": [
    "from kg_extraction import *"
   ]
  },
  {
   "cell_type": "markdown",
   "id": "81ea213f",
   "metadata": {},
   "source": [
    "### Enter websites from 'allrecipes.com' to be scraped\n",
    "\n",
    "You should also include the recipe titles in the list `recipes`. Try to follow the format provided if possible and note that the recipe ingredients and directions extracted will be passed the `recipes` to the LLM to inform which recipe is being read.  "
   ]
  },
  {
   "cell_type": "code",
   "execution_count": 3,
   "id": "920397c4",
   "metadata": {},
   "outputs": [],
   "source": [
    "websites = [\n",
    "    \"https://www.allrecipes.com/sweet-potato-dump-cake-recipe-8363654\", \n",
    "    \"https://www.allrecipes.com/chocolate-stout-cake-recipe-8426369\",\n",
    "    'https://www.allrecipes.com/sweet-potato-sheet-cake-recipe-8405784',\n",
    "    'https://www.allrecipes.com/recipe/16607/cheesecake-brownies/',\n",
    "    'https://www.allrecipes.com/recipe/211165/pumpkin-brownies/',\n",
    "    'https://www.allrecipes.com/recipe/9566/fudge-brownies-i/',\n",
    "    'https://www.allrecipes.com/recipe/9827/chocolate-chocolate-chip-cookies-i/',\n",
    "    'https://www.allrecipes.com/recipe/26237/double-chocolate-chip-cookies/'\n",
    "    \n",
    "    \n",
    "]\n",
    "recipes = [\n",
    "    'sweet potato dump cake',\n",
    "    'chocolate stout cake',\n",
    "    'sweet potato sheet cake',\n",
    "    'cheesecake brownies',\n",
    "    'pumpkin brownies',\n",
    "    'fudge brownies',\n",
    "    'chocolate chip cookies',\n",
    "    'double chocolate chip cookies'\n",
    "]"
   ]
  },
  {
   "cell_type": "markdown",
   "id": "795eb002",
   "metadata": {},
   "source": [
    "### Scrape the websites listed and write the html contents to txt files. \n",
    "\n",
    "This data will be cleaned up with a call to an LLM. For now we just grab it all. "
   ]
  },
  {
   "cell_type": "code",
   "execution_count": 4,
   "id": "c09c69fb",
   "metadata": {},
   "outputs": [],
   "source": [
    "scrape_recipe_websites(websites, recipes, data_dir = path_to_data)"
   ]
  },
  {
   "cell_type": "markdown",
   "id": "328d9802",
   "metadata": {},
   "source": [
    "### Now we are going to extract the ingredients and directions for cooking.\n",
    "\n",
    "To see the prompts for calls to the LLM for the ingredients, looking to the function `extract_ingredients_directions`. You can easily change the prompts to refine the extraction by specifying a `PromptTemplate` to the arguments `directions_template` or `ingredients_template`. Passing `verbose = True` will print out the content as it is extracted. \n",
    "\n",
    "**Note**: Extractions are written out to './recipe_data/recipe_title.txt'. If the file already exists extraction is skipped, so make sure you clear the folder/file if you want to try a new extraction under the same name. "
   ]
  },
  {
   "cell_type": "code",
   "execution_count": 5,
   "id": "daf8903c",
   "metadata": {},
   "outputs": [
    {
     "name": "stdout",
     "output_type": "stream",
     "text": [
      "Extracting ingredients and directions from html data .... \n",
      "\n",
      "File already exists: /Users/walder2/kg_uq/recipe_data/txt_files/cheesecake_brownies.txt\n",
      "File already exists: /Users/walder2/kg_uq/recipe_data/txt_files/chocolate_chip_cookies.txt\n",
      "File already exists: /Users/walder2/kg_uq/recipe_data/txt_files/chocolate_stout_cake.txt\n",
      "File already exists: /Users/walder2/kg_uq/recipe_data/txt_files/double_chocolate_chip_cookies.txt\n",
      "File already exists: /Users/walder2/kg_uq/recipe_data/txt_files/fudge_brownies.txt\n",
      "File already exists: /Users/walder2/kg_uq/recipe_data/txt_files/pumpkin_brownies.txt\n",
      "File already exists: /Users/walder2/kg_uq/recipe_data/txt_files/sweet_potato_dump_cake.txt\n",
      "File already exists: /Users/walder2/kg_uq/recipe_data/txt_files/sweet_potato_sheet_cake.txt\n"
     ]
    }
   ],
   "source": [
    "extract_ingredients_directions(data_dir = path_to_data)"
   ]
  },
  {
   "cell_type": "markdown",
   "id": "908c0a52",
   "metadata": {},
   "source": [
    "### Specfiy the entity types and relations. \n",
    "\n",
    "Below you can specify information for entity types and relation types. Have a look at https://schema.org/ for details on the entities I defined below. \n"
   ]
  },
  {
   "cell_type": "code",
   "execution_count": 6,
   "id": "7614cae5",
   "metadata": {},
   "outputs": [],
   "source": [
    "entity_types = {\n",
    "    \"recipe\": 'https://schema.org/Recipe',\n",
    "    \"ingredient\": \"https://schema.org/recipeIngredient\",\n",
    "    \"measurement\": \"https://schema.org/QuantitativeValue\",  \n",
    "}\n",
    "\n",
    "relation_types = {\n",
    "    \"hasCharacteristic\": \"https://schema.org/additionalProperty\",\n",
    "    \"hasColor\": \"https://schema.org/color\",\n",
    "    \"hasMeasurement\": \"https://schema.org/hasMeasurement\",\n",
    "    \"cookTime\": \"https://schema.org/cookTime\",\n",
    "    \"recipeInstruction\": \"https://schema.org/recipeInstructions\"\n",
    "    \n",
    " }"
   ]
  },
  {
   "cell_type": "markdown",
   "id": "8a28d9b2",
   "metadata": {},
   "source": [
    "### Extract the triples and context.\n",
    "\n",
    "Below is a function for extracting the entity and realtion types specified above. The results are dumped to `./recipe_data/kg_files/recipe_title.json`. Note that you can pass in a `user_prompt` that is self defined. This prompt gives the LLM information on what its task is and an example of it. You must include a formating call that uses `entity_types` and `realtion_types`. The `system_prompt` provided information to the LLM about how it should extract information. You can see the specifictions of both in `./kg_extraction/recipe_prompts.py`"
   ]
  },
  {
   "cell_type": "code",
   "execution_count": 7,
   "id": "5ca95529",
   "metadata": {},
   "outputs": [
    {
     "name": "stdout",
     "output_type": "stream",
     "text": [
      "File already exists: /Users/walder2/kg_uq/recipe_data/kg_files/cheesecake_brownies.json\n",
      "File already exists: /Users/walder2/kg_uq/recipe_data/kg_files/chocolate_chip_cookies.json\n",
      "File already exists: /Users/walder2/kg_uq/recipe_data/kg_files/chocolate_stout_cake.json\n",
      "File already exists: /Users/walder2/kg_uq/recipe_data/kg_files/double_chocolate_chip_cookies.json\n",
      "File already exists: /Users/walder2/kg_uq/recipe_data/kg_files/fudge_brownies.json\n",
      "File already exists: /Users/walder2/kg_uq/recipe_data/kg_files/pumpkin_brownies.json\n",
      "File already exists: /Users/walder2/kg_uq/recipe_data/kg_files/sweet_potato_dump_cake.json\n",
      "File already exists: /Users/walder2/kg_uq/recipe_data/kg_files/sweet_potato_sheet_cake.json\n"
     ]
    }
   ],
   "source": [
    "extract_recipe_kg(entity_types=entity_types, relation_types=relation_types, data_dir=path_to_data)"
   ]
  },
  {
   "cell_type": "markdown",
   "id": "7bb8a58b",
   "metadata": {},
   "source": [
    "### Take a look at the extracted KG\n",
    "\n",
    "The returned value from `get_recipe_kg` is a tuple containing a DataFrame"
   ]
  },
  {
   "cell_type": "code",
   "execution_count": 8,
   "id": "a85fd69a",
   "metadata": {},
   "outputs": [],
   "source": [
    "kg = get_recipe_kg(data_dir=path_to_data) "
   ]
  },
  {
   "cell_type": "code",
   "execution_count": 9,
   "id": "859f6b48",
   "metadata": {},
   "outputs": [
    {
     "data": {
      "text/html": [
       "<div>\n",
       "<style scoped>\n",
       "    .dataframe tbody tr th:only-of-type {\n",
       "        vertical-align: middle;\n",
       "    }\n",
       "\n",
       "    .dataframe tbody tr th {\n",
       "        vertical-align: top;\n",
       "    }\n",
       "\n",
       "    .dataframe thead th {\n",
       "        text-align: right;\n",
       "    }\n",
       "</style>\n",
       "<table border=\"1\" class=\"dataframe\">\n",
       "  <thead>\n",
       "    <tr style=\"text-align: right;\">\n",
       "      <th></th>\n",
       "      <th>head</th>\n",
       "      <th>head_type</th>\n",
       "      <th>relation</th>\n",
       "      <th>tail</th>\n",
       "      <th>tail_type</th>\n",
       "      <th>kg_idx</th>\n",
       "    </tr>\n",
       "  </thead>\n",
       "  <tbody>\n",
       "    <tr>\n",
       "      <th>0</th>\n",
       "      <td>cheesecake brownies</td>\n",
       "      <td>recipe</td>\n",
       "      <td>hasIngredient</td>\n",
       "      <td>brownie mix</td>\n",
       "      <td>ingredient</td>\n",
       "      <td>0</td>\n",
       "    </tr>\n",
       "    <tr>\n",
       "      <th>1</th>\n",
       "      <td>cheesecake brownies</td>\n",
       "      <td>recipe</td>\n",
       "      <td>hasIngredient</td>\n",
       "      <td>water</td>\n",
       "      <td>ingredient</td>\n",
       "      <td>0</td>\n",
       "    </tr>\n",
       "    <tr>\n",
       "      <th>2</th>\n",
       "      <td>cheesecake brownies</td>\n",
       "      <td>recipe</td>\n",
       "      <td>hasIngredient</td>\n",
       "      <td>vegetable oil</td>\n",
       "      <td>ingredient</td>\n",
       "      <td>0</td>\n",
       "    </tr>\n",
       "    <tr>\n",
       "      <th>3</th>\n",
       "      <td>cheesecake brownies</td>\n",
       "      <td>recipe</td>\n",
       "      <td>hasIngredient</td>\n",
       "      <td>eggs</td>\n",
       "      <td>ingredient</td>\n",
       "      <td>0</td>\n",
       "    </tr>\n",
       "    <tr>\n",
       "      <th>4</th>\n",
       "      <td>cheesecake brownies</td>\n",
       "      <td>recipe</td>\n",
       "      <td>hasIngredient</td>\n",
       "      <td>cream cheese</td>\n",
       "      <td>ingredient</td>\n",
       "      <td>0</td>\n",
       "    </tr>\n",
       "    <tr>\n",
       "      <th>...</th>\n",
       "      <td>...</td>\n",
       "      <td>...</td>\n",
       "      <td>...</td>\n",
       "      <td>...</td>\n",
       "      <td>...</td>\n",
       "      <td>...</td>\n",
       "    </tr>\n",
       "    <tr>\n",
       "      <th>136</th>\n",
       "      <td>sweet potato sheet cake</td>\n",
       "      <td>recipe</td>\n",
       "      <td>recipeInstruction</td>\n",
       "      <td>add powdered sugar and beat until well combined</td>\n",
       "      <td>instruction</td>\n",
       "      <td>7</td>\n",
       "    </tr>\n",
       "    <tr>\n",
       "      <th>137</th>\n",
       "      <td>sweet potato sheet cake</td>\n",
       "      <td>recipe</td>\n",
       "      <td>recipeInstruction</td>\n",
       "      <td>spread the frosting evenly over the cooled cak...</td>\n",
       "      <td>instruction</td>\n",
       "      <td>7</td>\n",
       "    </tr>\n",
       "    <tr>\n",
       "      <th>138</th>\n",
       "      <td>sweet potato sheet cake</td>\n",
       "      <td>recipe</td>\n",
       "      <td>hasIngredient</td>\n",
       "      <td>sweet potatoes</td>\n",
       "      <td>ingredient</td>\n",
       "      <td>7</td>\n",
       "    </tr>\n",
       "    <tr>\n",
       "      <th>139</th>\n",
       "      <td>sweet potato sheet cake</td>\n",
       "      <td>recipe</td>\n",
       "      <td>hasIngredient</td>\n",
       "      <td>box mix</td>\n",
       "      <td>ingredient</td>\n",
       "      <td>7</td>\n",
       "    </tr>\n",
       "    <tr>\n",
       "      <th>140</th>\n",
       "      <td>sweet potato sheet cake</td>\n",
       "      <td>recipe</td>\n",
       "      <td>hasIngredient</td>\n",
       "      <td>mashed canned sweet potatoes</td>\n",
       "      <td>ingredient</td>\n",
       "      <td>7</td>\n",
       "    </tr>\n",
       "  </tbody>\n",
       "</table>\n",
       "<p>141 rows × 6 columns</p>\n",
       "</div>"
      ],
      "text/plain": [
       "                        head head_type           relation  \\\n",
       "0        cheesecake brownies    recipe      hasIngredient   \n",
       "1        cheesecake brownies    recipe      hasIngredient   \n",
       "2        cheesecake brownies    recipe      hasIngredient   \n",
       "3        cheesecake brownies    recipe      hasIngredient   \n",
       "4        cheesecake brownies    recipe      hasIngredient   \n",
       "..                       ...       ...                ...   \n",
       "136  sweet potato sheet cake    recipe  recipeInstruction   \n",
       "137  sweet potato sheet cake    recipe  recipeInstruction   \n",
       "138  sweet potato sheet cake    recipe      hasIngredient   \n",
       "139  sweet potato sheet cake    recipe      hasIngredient   \n",
       "140  sweet potato sheet cake    recipe      hasIngredient   \n",
       "\n",
       "                                                  tail    tail_type  kg_idx  \n",
       "0                                          brownie mix   ingredient       0  \n",
       "1                                                water   ingredient       0  \n",
       "2                                        vegetable oil   ingredient       0  \n",
       "3                                                 eggs   ingredient       0  \n",
       "4                                         cream cheese   ingredient       0  \n",
       "..                                                 ...          ...     ...  \n",
       "136    add powdered sugar and beat until well combined  instruction       7  \n",
       "137  spread the frosting evenly over the cooled cak...  instruction       7  \n",
       "138                                     sweet potatoes   ingredient       7  \n",
       "139                                            box mix   ingredient       7  \n",
       "140                       mashed canned sweet potatoes   ingredient       7  \n",
       "\n",
       "[141 rows x 6 columns]"
      ]
     },
     "execution_count": 9,
     "metadata": {},
     "output_type": "execute_result"
    }
   ],
   "source": [
    "kg"
   ]
  }
 ],
 "metadata": {
  "kernelspec": {
   "display_name": "torch_geometric_env",
   "language": "python",
   "name": "torch_geometric_env"
  },
  "language_info": {
   "codemirror_mode": {
    "name": "ipython",
    "version": 3
   },
   "file_extension": ".py",
   "mimetype": "text/x-python",
   "name": "python",
   "nbconvert_exporter": "python",
   "pygments_lexer": "ipython3",
   "version": "3.11.6"
  }
 },
 "nbformat": 4,
 "nbformat_minor": 5
}
