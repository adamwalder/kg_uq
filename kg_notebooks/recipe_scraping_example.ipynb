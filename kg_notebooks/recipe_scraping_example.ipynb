{
 "cells": [
  {
   "cell_type": "markdown",
   "id": "d8519a71",
   "metadata": {},
   "source": [
    "# Scrape recipes and extract KG triples using OpenAI and LlamaIndex\n",
    "\n",
    "This notebook demonstrates how the data in `./recipe_data/` was extracted. Extraction is generally easier by running as a script, see `scrape_recipes.py`"
   ]
  },
  {
   "cell_type": "code",
   "execution_count": 1,
   "id": "172d6347",
   "metadata": {},
   "outputs": [],
   "source": [
    "import os, sys\n",
    "import nest_asyncio\n",
    "\n",
    "\n",
    "open_ai_key = '...'\n",
    "os.environ['OPENAI_API_KEY'] = open_ai_key\n",
    "\n",
    "sys.path = ['/Users/walder2/kg_uq/'] + sys.path\n",
    "path_to_data = '/Users/walder2/kg_uq/recipe_data'\n",
    "\n",
    "nest_asyncio.apply()"
   ]
  },
  {
   "cell_type": "code",
   "execution_count": 9,
   "id": "c79db098",
   "metadata": {},
   "outputs": [
    {
     "name": "stderr",
     "output_type": "stream",
     "text": [
      "/Users/walder2/torch_geometric_env/lib/python3.11/site-packages/tqdm/auto.py:21: TqdmWarning: IProgress not found. Please update jupyter and ipywidgets. See https://ipywidgets.readthedocs.io/en/stable/user_install.html\n",
      "  from .autonotebook import tqdm as notebook_tqdm\n"
     ]
    }
   ],
   "source": [
    "from recipe_data import * \n",
    "from kg_extraction import *"
   ]
  },
  {
   "cell_type": "markdown",
   "id": "81ea213f",
   "metadata": {},
   "source": [
    "### Enter websites from 'allrecipes.com' to be scraped\n",
    "\n",
    "You should also include the recipe titles in the list `recipes`. Try to follow the format provided if possible and note that the recipe ingredients and directions extracted will be passed the `recipes` to the LLM to inform which recipe is being read.  "
   ]
  },
  {
   "cell_type": "code",
   "execution_count": 3,
   "id": "ae109c2a",
   "metadata": {},
   "outputs": [],
   "source": [
    "websites =[\n",
    "    'https://www.allrecipes.com/recipe/9174/peanut-butter-pie/',\n",
    "    'https://www.allrecipes.com/recipe/12506/coconut-pie/',\n",
    "    'https://www.allrecipes.com/twix-pie-recipe-7563548',\n",
    "    'https://www.allrecipes.com/recipe/8487044/brownie-pie/',\n",
    "    'https://www.allrecipes.com/recipe/23439/perfect-pumpkin-pie/',\n",
    "    'https://www.allrecipes.com/recipe/12151/banana-cream-pie-i/'\n",
    "]\n",
    "\n",
    "recipes = [\n",
    "    'peanut butter pie', \n",
    "    'cocnut pie', \n",
    "    'twix pie', \n",
    "    'brownie pie', \n",
    "    'perfect pumpkin pie', \n",
    "    'banana cream pie'\n",
    "]"
   ]
  },
  {
   "cell_type": "markdown",
   "id": "795eb002",
   "metadata": {},
   "source": [
    "### Scrape the websites listed and write the html contents to txt files. \n",
    "\n",
    "This data will be cleaned up with a call to an LLM. For now we just grab it all. "
   ]
  },
  {
   "cell_type": "code",
   "execution_count": 4,
   "id": "c09c69fb",
   "metadata": {},
   "outputs": [
    {
     "name": "stdout",
     "output_type": "stream",
     "text": [
      " - - - - - - - - - - - - - - - - - - - - - - - - - - - - - \n",
      "'./recipe_data/html_files/peanut_butter_pie.txt'\n",
      " - - - - - - - - - - - - - - - - - - - - - - - - - - - - - \n",
      "Already extracted html content for peanut butter pie.\n",
      "\n",
      " - - - - - - - - - - - - - - - - - - - - - - - - - - - - - \n",
      "'./recipe_data/html_files/cocnut_pie.txt'\n",
      " - - - - - - - - - - - - - - - - - - - - - - - - - - - - - \n",
      "Already extracted html content for cocnut pie.\n",
      "\n",
      " - - - - - - - - - - - - - - - - - - - - - - - - - - - - - \n",
      "'./recipe_data/html_files/twix_pie.txt'\n",
      " - - - - - - - - - - - - - - - - - - - - - - - - - - - - - \n",
      "Already extracted html content for twix pie.\n",
      "\n",
      " - - - - - - - - - - - - - - - - - - - - - - - - - - - - - \n",
      "'./recipe_data/html_files/brownie_pie.txt'\n",
      " - - - - - - - - - - - - - - - - - - - - - - - - - - - - - \n",
      "Already extracted html content for brownie pie.\n",
      "\n",
      " - - - - - - - - - - - - - - - - - - - - - - - - - - - - - \n",
      "'./recipe_data/html_files/perfect_pumpkin_pie.txt'\n",
      " - - - - - - - - - - - - - - - - - - - - - - - - - - - - - \n",
      "Already extracted html content for perfect pumpkin pie.\n",
      "\n",
      " - - - - - - - - - - - - - - - - - - - - - - - - - - - - - \n",
      "'./recipe_data/html_files/banana_cream_pie.txt'\n",
      " - - - - - - - - - - - - - - - - - - - - - - - - - - - - - \n",
      "Already extracted html content for banana cream pie.\n",
      "\n"
     ]
    }
   ],
   "source": [
    "html_files = scrape_recipe_websites(websites=websites,\n",
    "                                    recipes=recipes,\n",
    "                                    data_dir=path_to_data,\n",
    "                                    verbose=True,\n",
    "                                    return_files=True)"
   ]
  },
  {
   "cell_type": "markdown",
   "id": "328d9802",
   "metadata": {},
   "source": [
    "### Now we are going to extract the ingredients and directions for cooking.\n",
    "\n",
    "To see the prompts for calls to the LLM for the ingredients, looking to the function `extract_ingredients_directions`. You can easily change the prompts to refine the extraction by specifying a `PromptTemplate` to the arguments `directions_template` or `ingredients_template`. Passing `verbose = True` will print out the content as it is extracted. \n",
    "\n",
    "**Note**: Extractions are written out to './recipe_data/recipe_title.txt'. If the file already exists extraction is skipped, so make sure you clear the folder/file if you want to try a new extraction under the same name. "
   ]
  },
  {
   "cell_type": "code",
   "execution_count": 5,
   "id": "daf8903c",
   "metadata": {},
   "outputs": [
    {
     "name": "stdout",
     "output_type": "stream",
     "text": [
      "Extracting content from html docs...\n"
     ]
    }
   ],
   "source": [
    "txt_files = extract_recipe_content(data_dir=path_to_data, html_files=html_files, return_files=True)"
   ]
  },
  {
   "cell_type": "markdown",
   "id": "908c0a52",
   "metadata": {},
   "source": [
    "### Specfiy the entity types and relations. \n",
    "\n",
    "Below you can specify information for entity types and relation types. Have a look at https://schema.org/ for details on the entities I defined below. \n"
   ]
  },
  {
   "cell_type": "code",
   "execution_count": 6,
   "id": "7614cae5",
   "metadata": {},
   "outputs": [],
   "source": [
    "entity_types = {\n",
    "    \"recipe\": 'https://schema.org/Recipe',\n",
    "    \"ingredient\": \"https://schema.org/recipeIngredient\",\n",
    "    \"measurement\": \"https://schema.org/QuantitativeValue\",\n",
    "    \"nutrition\": 'https://schema.org/nutrition',\n",
    "}\n",
    "\n",
    "relation_types = {\n",
    "    \"hasCharacteristic\": \"https://schema.org/additionalProperty\",\n",
    "    \"hasColor\": \"https://schema.org/color\",\n",
    "    \"hasMeasurement\": \"https://schema.org/hasMeasurement\",\n",
    "    \"cookTime\": \"https://schema.org/cookTime\",\n",
    "    \"recipeInstruction\": \"https://schema.org/recipeInstructions\"\n",
    "\n",
    "}"
   ]
  },
  {
   "cell_type": "markdown",
   "id": "8a28d9b2",
   "metadata": {},
   "source": [
    "### Extract the triples and context.\n",
    "\n",
    "Below is a function for extracting the entity and realtion types specified above. The results are dumped to `./recipe_data/kg_files/recipe_title.json`. Note that you can pass in a `user_prompt` that is self defined. This prompt gives the LLM information on what its task is and an example of it. You must include a formating call that uses `entity_types` and `realtion_types`. The `system_prompt` provided information to the LLM about how it should extract information. You can see the specifictions of both in `./kg_extraction/recipe_prompts.py`"
   ]
  },
  {
   "cell_type": "code",
   "execution_count": 7,
   "id": "5ca95529",
   "metadata": {},
   "outputs": [
    {
     "name": "stdout",
     "output_type": "stream",
     "text": [
      " - - - - - - - - - - - - - - - - - - - - - - - - - - - - - \n",
      "'./recipe_data/kg_files/peanut_butter_pie.json'\n",
      " - - - - - - - - - - - - - - - - - - - - - - - - - - - - - \n",
      "Already extracted peanut_butter_pie.\n",
      "\n",
      " - - - - - - - - - - - - - - - - - - - - - - - - - - - - - \n",
      "'./recipe_data/kg_files/cocnut_pie.json'\n",
      " - - - - - - - - - - - - - - - - - - - - - - - - - - - - - \n",
      "Already extracted cocnut_pie.\n",
      "\n",
      " - - - - - - - - - - - - - - - - - - - - - - - - - - - - - \n",
      "'./recipe_data/kg_files/twix_pie.json'\n",
      " - - - - - - - - - - - - - - - - - - - - - - - - - - - - - \n",
      "Already extracted twix_pie.\n",
      "\n",
      " - - - - - - - - - - - - - - - - - - - - - - - - - - - - - \n",
      "'./recipe_data/kg_files/brownie_pie.json'\n",
      " - - - - - - - - - - - - - - - - - - - - - - - - - - - - - \n",
      "Already extracted brownie_pie.\n",
      "\n",
      " - - - - - - - - - - - - - - - - - - - - - - - - - - - - - \n",
      "'./recipe_data/kg_files/perfect_pumpkin_pie.json'\n",
      " - - - - - - - - - - - - - - - - - - - - - - - - - - - - - \n",
      "Already extracted perfect_pumpkin_pie.\n",
      "\n",
      " - - - - - - - - - - - - - - - - - - - - - - - - - - - - - \n",
      "'./recipe_data/kg_files/banana_cream_pie.json'\n",
      " - - - - - - - - - - - - - - - - - - - - - - - - - - - - - \n",
      "Already extracted banana_cream_pie.\n",
      "\n"
     ]
    }
   ],
   "source": [
    "extract_recipe_kg(entity_types=entity_types, relation_types=relation_types, data_dir=path_to_data,\n",
    "                  txt_files=txt_files)"
   ]
  },
  {
   "cell_type": "markdown",
   "id": "7bb8a58b",
   "metadata": {},
   "source": [
    "### Take a look at the extracted KG\n",
    "\n",
    "The returned value from `get_recipe_kg` is a tuple containing a DataFrame"
   ]
  },
  {
   "cell_type": "code",
   "execution_count": 10,
   "id": "a85fd69a",
   "metadata": {},
   "outputs": [],
   "source": [
    "kg = get_recipe_kg(data_dir=path_to_data) "
   ]
  },
  {
   "cell_type": "code",
   "execution_count": 11,
   "id": "859f6b48",
   "metadata": {},
   "outputs": [
    {
     "data": {
      "text/html": [
       "<div>\n",
       "<style scoped>\n",
       "    .dataframe tbody tr th:only-of-type {\n",
       "        vertical-align: middle;\n",
       "    }\n",
       "\n",
       "    .dataframe tbody tr th {\n",
       "        vertical-align: top;\n",
       "    }\n",
       "\n",
       "    .dataframe thead th {\n",
       "        text-align: right;\n",
       "    }\n",
       "</style>\n",
       "<table border=\"1\" class=\"dataframe\">\n",
       "  <thead>\n",
       "    <tr style=\"text-align: right;\">\n",
       "      <th></th>\n",
       "      <th>head</th>\n",
       "      <th>head_type</th>\n",
       "      <th>relation</th>\n",
       "      <th>tail</th>\n",
       "      <th>tail_type</th>\n",
       "      <th>kg_idx</th>\n",
       "      <th>kg_name</th>\n",
       "    </tr>\n",
       "  </thead>\n",
       "  <tbody>\n",
       "    <tr>\n",
       "      <th>0</th>\n",
       "      <td>apple spinach salad</td>\n",
       "      <td>recipe</td>\n",
       "      <td>hasIngredient</td>\n",
       "      <td>2 cups baby spinach leaves</td>\n",
       "      <td>ingredient</td>\n",
       "      <td>0</td>\n",
       "      <td>apple spinach salad</td>\n",
       "    </tr>\n",
       "    <tr>\n",
       "      <th>1</th>\n",
       "      <td>apple spinach salad</td>\n",
       "      <td>recipe</td>\n",
       "      <td>hasIngredient</td>\n",
       "      <td>1 medium apple, sliced</td>\n",
       "      <td>ingredient</td>\n",
       "      <td>0</td>\n",
       "      <td>apple spinach salad</td>\n",
       "    </tr>\n",
       "    <tr>\n",
       "      <th>2</th>\n",
       "      <td>apple spinach salad</td>\n",
       "      <td>recipe</td>\n",
       "      <td>hasIngredient</td>\n",
       "      <td>2 tablespoons chopped celery</td>\n",
       "      <td>ingredient</td>\n",
       "      <td>0</td>\n",
       "      <td>apple spinach salad</td>\n",
       "    </tr>\n",
       "    <tr>\n",
       "      <th>3</th>\n",
       "      <td>apple spinach salad</td>\n",
       "      <td>recipe</td>\n",
       "      <td>hasIngredient</td>\n",
       "      <td>2 tablespoons toasted PLANTERS Pecans, chopped</td>\n",
       "      <td>ingredient</td>\n",
       "      <td>0</td>\n",
       "      <td>apple spinach salad</td>\n",
       "    </tr>\n",
       "    <tr>\n",
       "      <th>4</th>\n",
       "      <td>apple spinach salad</td>\n",
       "      <td>recipe</td>\n",
       "      <td>hasIngredient</td>\n",
       "      <td>2 tablespoons KRAFT LIGHT DONE RIGHT! House It...</td>\n",
       "      <td>ingredient</td>\n",
       "      <td>0</td>\n",
       "      <td>apple spinach salad</td>\n",
       "    </tr>\n",
       "    <tr>\n",
       "      <th>...</th>\n",
       "      <td>...</td>\n",
       "      <td>...</td>\n",
       "      <td>...</td>\n",
       "      <td>...</td>\n",
       "      <td>...</td>\n",
       "      <td>...</td>\n",
       "      <td>...</td>\n",
       "    </tr>\n",
       "    <tr>\n",
       "      <th>796</th>\n",
       "      <td>vanilla frozen yogurt</td>\n",
       "      <td>recipe</td>\n",
       "      <td>hasMeasurement</td>\n",
       "      <td>⅔ cup</td>\n",
       "      <td>measurement</td>\n",
       "      <td>43</td>\n",
       "      <td>vanilla frozen yogurt</td>\n",
       "    </tr>\n",
       "    <tr>\n",
       "      <th>797</th>\n",
       "      <td>vanilla frozen yogurt</td>\n",
       "      <td>recipe</td>\n",
       "      <td>hasMeasurement</td>\n",
       "      <td>1 teaspoon</td>\n",
       "      <td>measurement</td>\n",
       "      <td>43</td>\n",
       "      <td>vanilla frozen yogurt</td>\n",
       "    </tr>\n",
       "    <tr>\n",
       "      <th>798</th>\n",
       "      <td>vanilla frozen yogurt</td>\n",
       "      <td>recipe</td>\n",
       "      <td>hasIngredient</td>\n",
       "      <td>nonfat Greek yogurt</td>\n",
       "      <td>ingredient</td>\n",
       "      <td>43</td>\n",
       "      <td>vanilla frozen yogurt</td>\n",
       "    </tr>\n",
       "    <tr>\n",
       "      <th>799</th>\n",
       "      <td>vanilla frozen yogurt</td>\n",
       "      <td>recipe</td>\n",
       "      <td>hasIngredient</td>\n",
       "      <td>3 cups white sugar</td>\n",
       "      <td>ingredient</td>\n",
       "      <td>43</td>\n",
       "      <td>vanilla frozen yogurt</td>\n",
       "    </tr>\n",
       "    <tr>\n",
       "      <th>800</th>\n",
       "      <td>vanilla frozen yogurt</td>\n",
       "      <td>recipe</td>\n",
       "      <td>hasIngredient</td>\n",
       "      <td>1 teaspoon vanilla extract</td>\n",
       "      <td>ingredient</td>\n",
       "      <td>43</td>\n",
       "      <td>vanilla frozen yogurt</td>\n",
       "    </tr>\n",
       "  </tbody>\n",
       "</table>\n",
       "<p>801 rows × 7 columns</p>\n",
       "</div>"
      ],
      "text/plain": [
       "                      head head_type        relation  \\\n",
       "0      apple spinach salad    recipe   hasIngredient   \n",
       "1      apple spinach salad    recipe   hasIngredient   \n",
       "2      apple spinach salad    recipe   hasIngredient   \n",
       "3      apple spinach salad    recipe   hasIngredient   \n",
       "4      apple spinach salad    recipe   hasIngredient   \n",
       "..                     ...       ...             ...   \n",
       "796  vanilla frozen yogurt    recipe  hasMeasurement   \n",
       "797  vanilla frozen yogurt    recipe  hasMeasurement   \n",
       "798  vanilla frozen yogurt    recipe   hasIngredient   \n",
       "799  vanilla frozen yogurt    recipe   hasIngredient   \n",
       "800  vanilla frozen yogurt    recipe   hasIngredient   \n",
       "\n",
       "                                                  tail    tail_type  kg_idx  \\\n",
       "0                           2 cups baby spinach leaves   ingredient       0   \n",
       "1                               1 medium apple, sliced   ingredient       0   \n",
       "2                         2 tablespoons chopped celery   ingredient       0   \n",
       "3       2 tablespoons toasted PLANTERS Pecans, chopped   ingredient       0   \n",
       "4    2 tablespoons KRAFT LIGHT DONE RIGHT! House It...   ingredient       0   \n",
       "..                                                 ...          ...     ...   \n",
       "796                                              ⅔ cup  measurement      43   \n",
       "797                                         1 teaspoon  measurement      43   \n",
       "798                                nonfat Greek yogurt   ingredient      43   \n",
       "799                                 3 cups white sugar   ingredient      43   \n",
       "800                         1 teaspoon vanilla extract   ingredient      43   \n",
       "\n",
       "                   kg_name  \n",
       "0      apple spinach salad  \n",
       "1      apple spinach salad  \n",
       "2      apple spinach salad  \n",
       "3      apple spinach salad  \n",
       "4      apple spinach salad  \n",
       "..                     ...  \n",
       "796  vanilla frozen yogurt  \n",
       "797  vanilla frozen yogurt  \n",
       "798  vanilla frozen yogurt  \n",
       "799  vanilla frozen yogurt  \n",
       "800  vanilla frozen yogurt  \n",
       "\n",
       "[801 rows x 7 columns]"
      ]
     },
     "execution_count": 11,
     "metadata": {},
     "output_type": "execute_result"
    }
   ],
   "source": [
    "kg"
   ]
  },
  {
   "cell_type": "markdown",
   "id": "03d2a75e",
   "metadata": {},
   "source": [
    "To see how the entire dataset was scraped check out `scripts/scrape_recipes.py`. "
   ]
  }
 ],
 "metadata": {
  "kernelspec": {
   "display_name": "torch_geometric_env",
   "language": "python",
   "name": "torch_geometric_env"
  },
  "language_info": {
   "codemirror_mode": {
    "name": "ipython",
    "version": 3
   },
   "file_extension": ".py",
   "mimetype": "text/x-python",
   "name": "python",
   "nbconvert_exporter": "python",
   "pygments_lexer": "ipython3",
   "version": "3.11.6"
  }
 },
 "nbformat": 4,
 "nbformat_minor": 5
}
